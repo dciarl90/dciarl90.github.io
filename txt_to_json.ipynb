{
 "cells": [
  {
   "cell_type": "code",
   "execution_count": 1,
   "id": "1a87256a",
   "metadata": {},
   "outputs": [
    {
     "name": "stdout",
     "output_type": "stream",
     "text": [
      "Successfully converted C:\\Users\\domin\\Downloads\\kjv.txt to output.json\n"
     ]
    }
   ],
   "source": [
    "import json\n",
    "\n",
    "def txt_to_json(input_file, output_file):\n",
    "    # Read the text file\n",
    "    with open(input_file, 'r', encoding='utf-8') as file:\n",
    "        text_content = file.read().strip()\n",
    "    \n",
    "    # Create the JSON structure\n",
    "    json_data = {\n",
    "        \"text\": text_content\n",
    "    }\n",
    "    \n",
    "    # Write to JSON file\n",
    "    with open(output_file, 'w', encoding='utf-8') as file:\n",
    "        json.dump(json_data, file, indent=2, ensure_ascii=False)\n",
    "    \n",
    "    print(f\"Successfully converted {input_file} to {output_file}\")\n",
    "\n",
    "# Usage example\n",
    "txt_to_json(r\"C:\\Users\\domin\\Downloads\\kjv.txt\", 'output.json')"
   ]
  }
 ],
 "metadata": {
  "kernelspec": {
   "display_name": "Python 3",
   "language": "python",
   "name": "python3"
  },
  "language_info": {
   "codemirror_mode": {
    "name": "ipython",
    "version": 3
   },
   "file_extension": ".py",
   "mimetype": "text/x-python",
   "name": "python",
   "nbconvert_exporter": "python",
   "pygments_lexer": "ipython3",
   "version": "3.11.4"
  }
 },
 "nbformat": 4,
 "nbformat_minor": 5
}
